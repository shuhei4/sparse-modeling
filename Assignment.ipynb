{
 "cells": [
  {
   "cell_type": "markdown",
   "metadata": {},
   "source": [
    "# ライブラリインストール&インポート"
   ]
  },
  {
   "cell_type": "code",
   "execution_count": 36,
   "metadata": {},
   "outputs": [
    {
     "name": "stdout",
     "output_type": "stream",
     "text": [
      "Collecting glmnet_py\n",
      "\u001b[?25l  Downloading https://files.pythonhosted.org/packages/26/cb/f87b3ad5a3136bd35767adc2043d23ff11c5d33cf0dd01f087ad95b90346/glmnet_py-0.1.0b2-py2.py3-none-any.whl (378kB)\n",
      "\u001b[K    100% |████████████████████████████████| 378kB 6.5MB/s ta 0:00:01\n",
      "\u001b[?25hCollecting joblib>=0.10.3 (from glmnet_py)\n",
      "\u001b[?25l  Downloading https://files.pythonhosted.org/packages/e8/48/f02facae79e690f2ec38dbe021a90942b4896645ffc3b3273cc835370fe9/joblib-0.12.1-py2.py3-none-any.whl (259kB)\n",
      "\u001b[K    100% |████████████████████████████████| 266kB 8.9MB/s ta 0:00:01\n",
      "\u001b[31mdistributed 1.21.8 requires msgpack, which is not installed.\u001b[0m\n",
      "\u001b[?25hInstalling collected packages: joblib, glmnet-py\n",
      "Successfully installed glmnet-py-0.1.0b2 joblib-0.12.1\n",
      "\u001b[33mYou are using pip version 10.0.1, however version 18.0 is available.\n",
      "You should consider upgrading via the 'pip install --upgrade pip' command.\u001b[0m\n"
     ]
    }
   ],
   "source": [
    "!pip install glmnet_py"
   ]
  },
  {
   "cell_type": "code",
   "execution_count": 38,
   "metadata": {},
   "outputs": [],
   "source": [
    "import glmnet_python\n",
    "from glmnet import glmnet"
   ]
  },
  {
   "cell_type": "code",
   "execution_count": 39,
   "metadata": {},
   "outputs": [],
   "source": [
    "import pandas as pd\n",
    "import scipy\n",
    "\n",
    "import scipy, importlib, pprint, matplotlib.pyplot as plt, warnings\n",
    "from glmnet import glmnet; from glmnetPlot import glmnetPlot \n",
    "from glmnetPrint import glmnetPrint; from glmnetCoef import glmnetCoef; from glmnetPredict import glmnetPredict\n",
    "from cvglmnet import cvglmnet; from cvglmnetCoef import cvglmnetCoef\n",
    "from cvglmnetPlot import cvglmnetPlot; from cvglmnetPredict import cvglmnetPredict"
   ]
  },
  {
   "cell_type": "markdown",
   "metadata": {},
   "source": [
    "# データロード"
   ]
  },
  {
   "cell_type": "code",
   "execution_count": 12,
   "metadata": {},
   "outputs": [
    {
     "data": {
      "text/html": [
       "<div>\n",
       "<style scoped>\n",
       "    .dataframe tbody tr th:only-of-type {\n",
       "        vertical-align: middle;\n",
       "    }\n",
       "\n",
       "    .dataframe tbody tr th {\n",
       "        vertical-align: top;\n",
       "    }\n",
       "\n",
       "    .dataframe thead th {\n",
       "        text-align: right;\n",
       "    }\n",
       "</style>\n",
       "<table border=\"1\" class=\"dataframe\">\n",
       "  <thead>\n",
       "    <tr style=\"text-align: right;\">\n",
       "      <th></th>\n",
       "      <th>V1</th>\n",
       "      <th>V2</th>\n",
       "      <th>V3</th>\n",
       "      <th>V4</th>\n",
       "      <th>V5</th>\n",
       "      <th>V6</th>\n",
       "      <th>V7</th>\n",
       "      <th>V8</th>\n",
       "      <th>V9</th>\n",
       "      <th>V10</th>\n",
       "      <th>...</th>\n",
       "      <th>V12</th>\n",
       "      <th>V13</th>\n",
       "      <th>V14</th>\n",
       "      <th>V15</th>\n",
       "      <th>V16</th>\n",
       "      <th>V17</th>\n",
       "      <th>V18</th>\n",
       "      <th>V19</th>\n",
       "      <th>V20</th>\n",
       "      <th>V21</th>\n",
       "    </tr>\n",
       "  </thead>\n",
       "  <tbody>\n",
       "    <tr>\n",
       "      <th>1</th>\n",
       "      <td>0.273856</td>\n",
       "      <td>-0.036672</td>\n",
       "      <td>0.854727</td>\n",
       "      <td>0.967524</td>\n",
       "      <td>1.415490</td>\n",
       "      <td>0.523406</td>\n",
       "      <td>0.562688</td>\n",
       "      <td>1.111223</td>\n",
       "      <td>1.640821</td>\n",
       "      <td>0.618707</td>\n",
       "      <td>...</td>\n",
       "      <td>-0.078419</td>\n",
       "      <td>-0.603326</td>\n",
       "      <td>0.033232</td>\n",
       "      <td>-0.700885</td>\n",
       "      <td>1.157838</td>\n",
       "      <td>1.457816</td>\n",
       "      <td>0.774907</td>\n",
       "      <td>-1.268518</td>\n",
       "      <td>1.993580</td>\n",
       "      <td>-1.274886</td>\n",
       "    </tr>\n",
       "    <tr>\n",
       "      <th>2</th>\n",
       "      <td>2.244817</td>\n",
       "      <td>-0.546030</td>\n",
       "      <td>0.234065</td>\n",
       "      <td>-1.335030</td>\n",
       "      <td>1.313076</td>\n",
       "      <td>0.521275</td>\n",
       "      <td>-0.610035</td>\n",
       "      <td>-0.861397</td>\n",
       "      <td>-0.270463</td>\n",
       "      <td>0.230083</td>\n",
       "      <td>...</td>\n",
       "      <td>0.163141</td>\n",
       "      <td>0.762077</td>\n",
       "      <td>0.678120</td>\n",
       "      <td>-0.528267</td>\n",
       "      <td>-0.879155</td>\n",
       "      <td>-0.472913</td>\n",
       "      <td>-1.117173</td>\n",
       "      <td>-0.737732</td>\n",
       "      <td>-1.078793</td>\n",
       "      <td>1.843425</td>\n",
       "    </tr>\n",
       "    <tr>\n",
       "      <th>3</th>\n",
       "      <td>-0.125423</td>\n",
       "      <td>-0.606878</td>\n",
       "      <td>-0.853922</td>\n",
       "      <td>-0.148777</td>\n",
       "      <td>-0.664683</td>\n",
       "      <td>0.606616</td>\n",
       "      <td>0.161721</td>\n",
       "      <td>-0.862722</td>\n",
       "      <td>0.604210</td>\n",
       "      <td>1.193977</td>\n",
       "      <td>...</td>\n",
       "      <td>-0.945206</td>\n",
       "      <td>0.398903</td>\n",
       "      <td>-0.764785</td>\n",
       "      <td>1.285402</td>\n",
       "      <td>0.644877</td>\n",
       "      <td>0.179246</td>\n",
       "      <td>0.044738</td>\n",
       "      <td>1.105307</td>\n",
       "      <td>0.304055</td>\n",
       "      <td>0.459236</td>\n",
       "    </tr>\n",
       "    <tr>\n",
       "      <th>4</th>\n",
       "      <td>-0.543573</td>\n",
       "      <td>1.108358</td>\n",
       "      <td>-0.104248</td>\n",
       "      <td>1.016526</td>\n",
       "      <td>0.699904</td>\n",
       "      <td>1.655016</td>\n",
       "      <td>0.489963</td>\n",
       "      <td>0.023382</td>\n",
       "      <td>0.256030</td>\n",
       "      <td>-0.127314</td>\n",
       "      <td>...</td>\n",
       "      <td>0.641955</td>\n",
       "      <td>0.075482</td>\n",
       "      <td>-1.378464</td>\n",
       "      <td>-1.024739</td>\n",
       "      <td>-2.118362</td>\n",
       "      <td>-0.469535</td>\n",
       "      <td>0.697796</td>\n",
       "      <td>0.865636</td>\n",
       "      <td>-0.789490</td>\n",
       "      <td>0.564041</td>\n",
       "    </tr>\n",
       "    <tr>\n",
       "      <th>5</th>\n",
       "      <td>-1.459398</td>\n",
       "      <td>-0.274495</td>\n",
       "      <td>0.111906</td>\n",
       "      <td>-0.851788</td>\n",
       "      <td>0.315284</td>\n",
       "      <td>1.050749</td>\n",
       "      <td>1.386358</td>\n",
       "      <td>0.284501</td>\n",
       "      <td>1.140498</td>\n",
       "      <td>2.681346</td>\n",
       "      <td>...</td>\n",
       "      <td>0.367044</td>\n",
       "      <td>1.737597</td>\n",
       "      <td>-1.266127</td>\n",
       "      <td>1.451999</td>\n",
       "      <td>-0.789476</td>\n",
       "      <td>-0.984386</td>\n",
       "      <td>-1.637010</td>\n",
       "      <td>-0.582917</td>\n",
       "      <td>-1.528910</td>\n",
       "      <td>1.872963</td>\n",
       "    </tr>\n",
       "  </tbody>\n",
       "</table>\n",
       "<p>5 rows × 21 columns</p>\n",
       "</div>"
      ],
      "text/plain": [
       "         V1        V2        V3        V4        V5        V6        V7  \\\n",
       "1  0.273856 -0.036672  0.854727  0.967524  1.415490  0.523406  0.562688   \n",
       "2  2.244817 -0.546030  0.234065 -1.335030  1.313076  0.521275 -0.610035   \n",
       "3 -0.125423 -0.606878 -0.853922 -0.148777 -0.664683  0.606616  0.161721   \n",
       "4 -0.543573  1.108358 -0.104248  1.016526  0.699904  1.655016  0.489963   \n",
       "5 -1.459398 -0.274495  0.111906 -0.851788  0.315284  1.050749  1.386358   \n",
       "\n",
       "         V8        V9       V10    ...          V12       V13       V14  \\\n",
       "1  1.111223  1.640821  0.618707    ...    -0.078419 -0.603326  0.033232   \n",
       "2 -0.861397 -0.270463  0.230083    ...     0.163141  0.762077  0.678120   \n",
       "3 -0.862722  0.604210  1.193977    ...    -0.945206  0.398903 -0.764785   \n",
       "4  0.023382  0.256030 -0.127314    ...     0.641955  0.075482 -1.378464   \n",
       "5  0.284501  1.140498  2.681346    ...     0.367044  1.737597 -1.266127   \n",
       "\n",
       "        V15       V16       V17       V18       V19       V20       V21  \n",
       "1 -0.700885  1.157838  1.457816  0.774907 -1.268518  1.993580 -1.274886  \n",
       "2 -0.528267 -0.879155 -0.472913 -1.117173 -0.737732 -1.078793  1.843425  \n",
       "3  1.285402  0.644877  0.179246  0.044738  1.105307  0.304055  0.459236  \n",
       "4 -1.024739 -2.118362 -0.469535  0.697796  0.865636 -0.789490  0.564041  \n",
       "5  1.451999 -0.789476 -0.984386 -1.637010 -0.582917 -1.528910  1.872963  \n",
       "\n",
       "[5 rows x 21 columns]"
      ]
     },
     "execution_count": 12,
     "metadata": {},
     "output_type": "execute_result"
    }
   ],
   "source": [
    "df = pd.read_csv('QuickStartExample.csv', index_col = 0)\n",
    "df.head()"
   ]
  },
  {
   "cell_type": "code",
   "execution_count": 43,
   "metadata": {},
   "outputs": [
    {
     "name": "stdout",
     "output_type": "stream",
     "text": [
      "<class 'numpy.ndarray'>\n"
     ]
    }
   ],
   "source": [
    "x = df.iloc[:, 0:20].values\n",
    "y = df.iloc[:, 20].values\n",
    "print(type(x))"
   ]
  },
  {
   "cell_type": "code",
   "execution_count": 44,
   "metadata": {},
   "outputs": [
    {
     "data": {
      "text/plain": [
       "array([[1.],\n",
       "       [1.],\n",
       "       [1.],\n",
       "       [1.],\n",
       "       [1.],\n",
       "       [1.],\n",
       "       [1.],\n",
       "       [1.],\n",
       "       [1.],\n",
       "       [1.],\n",
       "       [1.],\n",
       "       [1.],\n",
       "       [1.],\n",
       "       [1.],\n",
       "       [1.],\n",
       "       [1.],\n",
       "       [1.],\n",
       "       [1.],\n",
       "       [1.],\n",
       "       [1.],\n",
       "       [1.],\n",
       "       [1.],\n",
       "       [1.],\n",
       "       [1.],\n",
       "       [1.],\n",
       "       [1.],\n",
       "       [1.],\n",
       "       [1.],\n",
       "       [1.],\n",
       "       [1.],\n",
       "       [1.],\n",
       "       [1.],\n",
       "       [1.],\n",
       "       [1.],\n",
       "       [1.],\n",
       "       [1.],\n",
       "       [1.],\n",
       "       [1.],\n",
       "       [1.],\n",
       "       [1.],\n",
       "       [1.],\n",
       "       [1.],\n",
       "       [1.],\n",
       "       [1.],\n",
       "       [1.],\n",
       "       [1.],\n",
       "       [1.],\n",
       "       [1.],\n",
       "       [1.],\n",
       "       [1.]])"
      ]
     },
     "execution_count": 44,
     "metadata": {},
     "output_type": "execute_result"
    }
   ],
   "source": [
    "t = scipy.ones((50, 1), dtype = scipy.float64)\n",
    "wts = scipy.row_stack((t, 2*t))\n",
    "\n",
    "t"
   ]
  },
  {
   "cell_type": "code",
   "execution_count": 45,
   "metadata": {},
   "outputs": [
    {
     "data": {
      "text/plain": [
       "(100, 1)"
      ]
     },
     "execution_count": 45,
     "metadata": {},
     "output_type": "execute_result"
    }
   ],
   "source": [
    "wts.shape"
   ]
  },
  {
   "cell_type": "code",
   "execution_count": 46,
   "metadata": {},
   "outputs": [],
   "source": [
    "fit = glmnet(x = x.copy(), y = y.copy(), family = 'gaussian',\n",
    "             weights = wts, alpha = 0.2, nlambda = 20)"
   ]
  },
  {
   "cell_type": "code",
   "execution_count": 47,
   "metadata": {},
   "outputs": [
    {
     "name": "stdout",
     "output_type": "stream",
     "text": [
      "\t df \t %dev \t lambdau\n",
      "\n",
      "0 \t 0.000000 \t 0.000000 \t 7.939020\n",
      "1 \t 4.000000 \t 0.178852 \t 4.889231\n",
      "2 \t 7.000000 \t 0.444488 \t 3.011024\n",
      "3 \t 7.000000 \t 0.656716 \t 1.854334\n",
      "4 \t 8.000000 \t 0.784984 \t 1.141988\n",
      "5 \t 9.000000 \t 0.853935 \t 0.703291\n",
      "6 \t 10.000000 \t 0.886693 \t 0.433121\n",
      "7 \t 11.000000 \t 0.902462 \t 0.266737\n",
      "8 \t 14.000000 \t 0.910135 \t 0.164269\n",
      "9 \t 17.000000 \t 0.913833 \t 0.101165\n",
      "10 \t 17.000000 \t 0.915417 \t 0.062302\n",
      "11 \t 17.000000 \t 0.916037 \t 0.038369\n",
      "12 \t 19.000000 \t 0.916299 \t 0.023629\n",
      "13 \t 20.000000 \t 0.916405 \t 0.014552\n",
      "14 \t 20.000000 \t 0.916447 \t 0.008962\n",
      "15 \t 20.000000 \t 0.916463 \t 0.005519\n",
      "16 \t 20.000000 \t 0.916469 \t 0.003399\n"
     ]
    }
   ],
   "source": [
    "glmnetPrint(fit)"
   ]
  },
  {
   "cell_type": "code",
   "execution_count": 48,
   "metadata": {},
   "outputs": [
    {
     "data": {
      "image/png": "[encoded data removed]",
      "text/plain": [
       "<Figure size 432x288 with 2 Axes>"
      ]
     },
     "metadata": {},
     "output_type": "display_data"
    }
   ],
   "source": [
    "glmnetPlot(fit, xvar = 'lambda', label = True);"
   ]
  },
  {
   "cell_type": "code",
   "execution_count": null,
   "metadata": {},
   "outputs": [],
   "source": []
  }
 ],
 "metadata": {
  "kernelspec": {
   "display_name": "conda_python3",
   "language": "python",
   "name": "conda_python3"
  },
  "language_info": {
   "codemirror_mode": {
    "name": "ipython",
    "version": 3
   },
   "file_extension": ".py",
   "mimetype": "text/x-python",
   "name": "python",
   "nbconvert_exporter": "python",
   "pygments_lexer": "ipython3",
   "version": "3.6.4"
  }
 },
 "nbformat": 4,
 "nbformat_minor": 2
}
